{
 "cells": [
  {
   "cell_type": "markdown",
   "id": "7727da0e",
   "metadata": {},
   "source": [
    "# About\n",
    "* **Author**: Adil Rashitov (adil.rashitov.98@gmail.com)\n",
    "* **Created at**: 09.12.2022\n"
   ]
  },
  {
   "cell_type": "code",
   "execution_count": null,
   "id": "0d4c7bdb",
   "metadata": {
    "code_folding": [
     0
    ]
   },
   "outputs": [],
   "source": [
    "# Imports / Configs / Global vars\n",
    "\n",
    "# Import of native python tools\n",
    "import os\n",
    "import json\n",
    "from functools import reduce\n",
    "\n",
    "# Import of base ML stack libs\n",
    "import numpy as np\n",
    "import sklearn as sc\n",
    "\n",
    "# Visualization libraries\n",
    "# import plotly.express as px\n",
    "\n",
    "# Logging configuraiton\n",
    "import logging\n",
    "logging.basicConfig(format='[ %(asctime)s ][ %(levelname)s ]: %(message)s', datefmt='%m/%d/%Y %I:%M:%S %p')\n",
    "logger = logging.getLogger()\n",
    "logger.setLevel(logging.INFO)\n",
    "\n",
    "\n",
    "# Ipython configs\n",
    "from IPython.core.display import display, HTML\n",
    "from IPython.core.interactiveshell import InteractiveShell\n",
    "display(HTML(\"<style>.container { width:100% !important; }</style>\"))\n",
    "InteractiveShell.ast_node_interactivity = 'all'\n",
    "\n",
    "# Pandas configs\n",
    "import pandas as pd\n",
    "import geopandas as gpd\n",
    "pd.options.display.max_rows = 350\n",
    "pd.options.display.max_columns = 250\n",
    "\n",
    "# Jupyter configs\n",
    "%load_ext autoreload\n",
    "%autoreload 2\n",
    "%config Completer.use_jedi = False\n",
    "\n",
    "# Configure project PATH\n",
    "from pathlib import Path\n",
    "import sys\n",
    "PROJECT_PATH = os.getcwd().rsplit('/', 1)[0]\n",
    "\n",
    "\n",
    "if PROJECT_PATH not in sys.path:\n",
    "    sys.path.append(PROJECT_PATH)"
   ]
  },
  {
   "cell_type": "markdown",
   "id": "b102604f",
   "metadata": {
    "code_folding": []
   },
   "source": [
    "# Data"
   ]
  },
  {
   "cell_type": "code",
   "execution_count": null,
   "id": "266705cd",
   "metadata": {
    "code_folding": [
     0
    ]
   },
   "outputs": [],
   "source": [
    "gps_records = pd.read_parquet(\"../data/02_intermediate/gps_records.parquet\")\n",
    "route_plans = pd.read_parquet(\"../data/02_intermediate/route_plan.parquet\")"
   ]
  },
  {
   "cell_type": "markdown",
   "id": "53060446",
   "metadata": {},
   "source": [
    "# Main"
   ]
  },
  {
   "cell_type": "code",
   "execution_count": null,
   "id": "5cbae311",
   "metadata": {
    "code_folding": []
   },
   "outputs": [],
   "source": [
    "# VFHDBSCAN\n",
    "from gps_activity import ActivityExtractionSession\n",
    "from gps_activity.extraction.factory.preprocessing import PreprocessingFactory\n",
    "from gps_activity.extraction.factory.fragmentation import VelocityFragmentationFactory\n",
    "from gps_activity.extraction.factory.clustering import FDBSCANFactory\n",
    "\n",
    "\n",
    "preprocessing = PreprocessingFactory.factory_pipeline(\n",
    "    source_lat_column=\"lat\",\n",
    "    source_lon_column=\"lon\",\n",
    "    source_datetime=\"datetime\",\n",
    "    source_vehicle_id=\"plate_no\",\n",
    "    source_crs=\"EPSG:4326\",\n",
    "    target_crs=\"EPSG:2326\",\n",
    ")\n",
    "\n",
    "fragmentation = VelocityFragmentationFactory.factory_pipeline(max_velocity_hard_limit=4)\n",
    "clustering = FDBSCANFactory.factory_pipeline(\n",
    "    source_vehicle_id_column=\"plate_no\",\n",
    "    eps=30,\n",
    "    min_samples=3,\n",
    ")\n",
    "\n",
    "vfhdbscan = ActivityExtractionSession(\n",
    "    preprocessing=preprocessing,\n",
    "    fragmentation=fragmentation,\n",
    "    clustering=clustering,\n",
    ")"
   ]
  },
  {
   "cell_type": "code",
   "execution_count": null,
   "id": "11e98ad2",
   "metadata": {
    "code_folding": []
   },
   "outputs": [],
   "source": [
    "# STCM\n",
    "from gps_activity import ActivityExtractionSession\n",
    "from gps_activity.extraction.factory.preprocessing import PreprocessingFactory\n",
    "from gps_activity.extraction.factory.fragmentation import VelocityFragmentationFactory\n",
    "from gps_activity.extraction.factory.clustering import STCMFactory\n",
    "\n",
    "\n",
    "preprocessing = PreprocessingFactory.factory_pipeline(\n",
    "    source_lat_column=\"lat\",\n",
    "    source_lon_column=\"lon\",\n",
    "    source_datetime=\"datetime\",\n",
    "    source_vehicle_id=\"plate_no\",\n",
    "    source_crs=\"EPSG:4326\",\n",
    "    target_crs=\"EPSG:2326\",\n",
    ")\n",
    "\n",
    "fragmentation = VelocityFragmentationFactory.factory_pipeline(max_velocity_hard_limit=4)\n",
    "clustering = STCMFactory.factory_pipeline(\n",
    "    source_vehicle_id_column=\"plate_no\",\n",
    "    eps=30,\n",
    "    min_duration_sec=60\n",
    ")\n",
    "\n",
    "stcm = ActivityExtractionSession(\n",
    "    preprocessing=preprocessing,\n",
    "    fragmentation=fragmentation,\n",
    "    clustering=clustering,\n",
    ")"
   ]
  },
  {
   "cell_type": "code",
   "execution_count": null,
   "id": "59889888",
   "metadata": {
    "code_folding": [
     0
    ]
   },
   "outputs": [],
   "source": [
    "def split_gps_over_vehicle_id(gps_records: pd.DataFrame):\n",
    "    gps = []\n",
    "    for vehicle_ids in gps_records[\"plate_no\"].unique():\n",
    "        gps_slice = gps_records[gps_records[\"plate_no\"] == vehicle_ids].reset_index(drop=True)\n",
    "        gps.append(gps_slice.copy())\n",
    "    return gps\n",
    "\n",
    "\n",
    "clustered_gps_stcm = [ stcm.predict(gps) for gps in split_gps_over_vehicle_id(gps_records.copy()) ]\n",
    "clustered_gps_vfhdbscan = [ stcm.predict(gps) for gps in split_gps_over_vehicle_id(gps_records.copy()) ]\n",
    "\n",
    "clustered_gps_stcm = pd.concat(clustered_gps_stcm).reset_index(drop=True)\n",
    "clustered_gps_vfhdbscan = pd.concat(clustered_gps_vfhdbscan).reset_index(drop=True)"
   ]
  },
  {
   "cell_type": "code",
   "execution_count": null,
   "id": "20aeba76",
   "metadata": {},
   "outputs": [],
   "source": [
    "!rm -rf ../data/03_primary/clustered_gps/\n",
    "!mkdir -p ../data/03_primary/clustered_gps/\n",
    "clustered_gps_stcm.to_parquet(\"../data/03_primary/clustered_gps/vfhstcm.parquet\", index=False)\n",
    "clustered_gps_vfhdbscan.to_parquet(\"../data/03_primary/clustered_gps/vfhdbscan.parquet\", index=False)"
   ]
  },
  {
   "cell_type": "code",
   "execution_count": null,
   "id": "cb7e1621",
   "metadata": {},
   "outputs": [],
   "source": []
  },
  {
   "cell_type": "code",
   "execution_count": null,
   "id": "5326ae53",
   "metadata": {},
   "outputs": [],
   "source": []
  }
 ],
 "metadata": {
  "kernelspec": {
   "display_name": "Python 3 (ipykernel)",
   "language": "python",
   "name": "python3"
  },
  "language_info": {
   "codemirror_mode": {
    "name": "ipython",
    "version": 3
   },
   "file_extension": ".py",
   "mimetype": "text/x-python",
   "name": "python",
   "nbconvert_exporter": "python",
   "pygments_lexer": "ipython3",
   "version": "3.11.2"
  },
  "varInspector": {
   "cols": {
    "lenName": 16,
    "lenType": 16,
    "lenVar": 40
   },
   "kernels_config": {
    "python": {
     "delete_cmd_postfix": "",
     "delete_cmd_prefix": "del ",
     "library": "var_list.py",
     "varRefreshCmd": "print(var_dic_list())"
    },
    "r": {
     "delete_cmd_postfix": ") ",
     "delete_cmd_prefix": "rm(",
     "library": "var_list.r",
     "varRefreshCmd": "cat(var_dic_list()) "
    }
   },
   "types_to_exclude": [
    "module",
    "function",
    "builtin_function_or_method",
    "instance",
    "_Feature"
   ],
   "window_display": false
  }
 },
 "nbformat": 4,
 "nbformat_minor": 5
}
