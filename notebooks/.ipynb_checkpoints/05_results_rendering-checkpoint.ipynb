{
 "cells": [
  {
   "cell_type": "markdown",
   "id": "7727da0e",
   "metadata": {},
   "source": [
    "# About\n",
    "* **Author**: Adil Rashitov (adil.rashitov.98@gmail.com)\n",
    "* **Created at**: 20.01.2022\n"
   ]
  },
  {
   "cell_type": "code",
   "execution_count": 1,
   "id": "0d4c7bdb",
   "metadata": {
    "code_folding": [
     0
    ]
   },
   "outputs": [
    {
     "name": "stderr",
     "output_type": "stream",
     "text": [
      "/var/folders/0b/hbv1x9fd5f37yqz3mxj52y5r0000gq/T/ipykernel_12120/3525436923.py:23: DeprecationWarning: Importing display from IPython.core.display is deprecated since IPython 7.14, please import from IPython display\n",
      "  from IPython.core.display import display, HTML\n"
     ]
    },
    {
     "data": {
      "text/html": [
       "<style>.container { width:100% !important; }</style>"
      ],
      "text/plain": [
       "<IPython.core.display.HTML object>"
      ]
     },
     "metadata": {},
     "output_type": "display_data"
    },
    {
     "name": "stderr",
     "output_type": "stream",
     "text": [
      "/Users/adil.rashitov/Library/Caches/pypoetry/virtualenvs/research-gps-activity-extraction-6UHrf9UL-py3.11/lib/python3.11/site-packages/geopandas/_compat.py:112: UserWarning: The Shapely GEOS version (3.10.3-CAPI-1.16.1) is incompatible with the GEOS version PyGEOS was compiled with (3.11.1-CAPI-1.17.1). Conversions between both will be slow.\n",
      "  warnings.warn(\n"
     ]
    }
   ],
   "source": [
    "# Imports / Configs / Global vars\n",
    "\n",
    "# Import of native python tools\n",
    "import os\n",
    "import json\n",
    "from functools import reduce\n",
    "\n",
    "# Import of base ML stack libs\n",
    "import numpy as np\n",
    "import sklearn as sc\n",
    "\n",
    "# Visualization libraries\n",
    "# import plotly.express as px\n",
    "\n",
    "# Logging configuraiton\n",
    "import logging\n",
    "logging.basicConfig(format='[ %(asctime)s ][ %(levelname)s ]: %(message)s', datefmt='%m/%d/%Y %I:%M:%S %p')\n",
    "logger = logging.getLogger()\n",
    "logger.setLevel(logging.INFO)\n",
    "\n",
    "\n",
    "# Ipython configs\n",
    "from IPython.core.display import display, HTML\n",
    "from IPython.core.interactiveshell import InteractiveShell\n",
    "display(HTML(\"<style>.container { width:100% !important; }</style>\"))\n",
    "InteractiveShell.ast_node_interactivity = 'all'\n",
    "\n",
    "# Pandas configs\n",
    "import pandas as pd\n",
    "import geopandas as gpd\n",
    "pd.options.display.max_rows = 350\n",
    "pd.options.display.max_columns = 250\n",
    "\n",
    "# Jupyter configs\n",
    "%load_ext autoreload\n",
    "%autoreload 2\n",
    "%config Completer.use_jedi = False\n",
    "\n",
    "# Configure project PATH\n",
    "from pathlib import Path\n",
    "import sys\n",
    "PROJECT_PATH = os.getcwd().rsplit('/', 1)[0]\n",
    "\n",
    "\n",
    "if PROJECT_PATH not in sys.path:\n",
    "    sys.path.append(PROJECT_PATH)"
   ]
  },
  {
   "cell_type": "markdown",
   "id": "b102604f",
   "metadata": {
    "code_folding": []
   },
   "source": [
    "# Data"
   ]
  },
  {
   "cell_type": "code",
   "execution_count": 2,
   "id": "266705cd",
   "metadata": {
    "code_folding": []
   },
   "outputs": [
    {
     "name": "stderr",
     "output_type": "stream",
     "text": [
      "[ 03/06/2023 12:22:07 PM ][ INFO ]: The best performed model according `fbeta_score`:\n"
     ]
    },
    {
     "data": {
      "text/html": [
       "<div>\n",
       "<style scoped>\n",
       "    .dataframe tbody tr th:only-of-type {\n",
       "        vertical-align: middle;\n",
       "    }\n",
       "\n",
       "    .dataframe tbody tr th {\n",
       "        vertical-align: top;\n",
       "    }\n",
       "\n",
       "    .dataframe thead th {\n",
       "        text-align: right;\n",
       "    }\n",
       "</style>\n",
       "<table border=\"1\" class=\"dataframe\">\n",
       "  <thead>\n",
       "    <tr style=\"text-align: right;\">\n",
       "      <th></th>\n",
       "      <th>name</th>\n",
       "      <th>max_velocity_hard_limit</th>\n",
       "      <th>eps</th>\n",
       "      <th>min_samples</th>\n",
       "      <th>recall</th>\n",
       "      <th>precision</th>\n",
       "      <th>beta</th>\n",
       "      <th>fbeta_score</th>\n",
       "      <th>status</th>\n",
       "      <th>status_details</th>\n",
       "      <th>min_duration_sec</th>\n",
       "    </tr>\n",
       "  </thead>\n",
       "  <tbody>\n",
       "    <tr>\n",
       "      <th>3439</th>\n",
       "      <td>stcm</td>\n",
       "      <td>6.0</td>\n",
       "      <td>20.0</td>\n",
       "      <td>NaN</td>\n",
       "      <td>0.372881</td>\n",
       "      <td>0.367521</td>\n",
       "      <td>1.0</td>\n",
       "      <td>0.370182</td>\n",
       "      <td>success</td>\n",
       "      <td>NaN</td>\n",
       "      <td>100.0</td>\n",
       "    </tr>\n",
       "  </tbody>\n",
       "</table>\n",
       "</div>"
      ],
      "text/plain": [
       "      name  max_velocity_hard_limit   eps  min_samples    recall  precision  \\\n",
       "3439  stcm                      6.0  20.0          NaN  0.372881   0.367521   \n",
       "\n",
       "      beta  fbeta_score   status status_details  min_duration_sec  \n",
       "3439   1.0     0.370182  success            NaN             100.0  "
      ]
     },
     "execution_count": 2,
     "metadata": {},
     "output_type": "execute_result"
    }
   ],
   "source": [
    "# Best score\n",
    "logging.info(\"The best performed model according `fbeta_score`:\")\n",
    "df = pd.read_csv(\"../data/grid_search_results.csv\")\n",
    "df[\"name\"] = df[\"name\"].str.replace(\"factory_\", \"\")\n",
    "df[df[\"fbeta_score\"] == df[\"fbeta_score\"].max()]"
   ]
  },
  {
   "cell_type": "code",
   "execution_count": 3,
   "id": "158600fa",
   "metadata": {},
   "outputs": [
    {
     "name": "stdout",
     "output_type": "stream",
     "text": [
      "name | max_velocity_hard_limit | eps | min_samples | recall | precision | beta | fbeta_score | status | status_details | min_duration_sec\n",
      "stcm | 6.0 | 20.0 |  | 0.3728813559322034 | 0.3675213675213675 | 1.0 | 0.3701819604774017 | success |  | 100.0\n",
      "stcm | 9.0 | 20.0 |  | 0.3870056497175141 | 0.3535620052770448 | 1.0 | 0.3695286788313086 | success |  | 100.0\n",
      "stcm | 7.0 | 20.0 |  | 0.3785310734463277 | 0.3598901098901099 | 1.0 | 0.3689753021544929 | success |  | 100.0\n",
      "stcm | 8.0 | 20.0 |  | 0.384180790960452 | 0.3546666666666667 | 1.0 | 0.3688342407373423 | success |  | 100.0\n",
      "stcm | 6.0 | 20.0 |  | 0.3728813559322034 | 0.361344537815126 | 1.0 | 0.3670223084384093 | success |  | 95.26315789473684\n",
      "stcm | 6.0 | 20.0 |  | 0.3728813559322034 | 0.3603351955307262 | 1.0 | 0.3665009362691289 | success |  | 90.52631578947368\n",
      "stcm | 9.0 | 20.0 |  | 0.3870056497175141 | 0.348051948051948 | 1.0 | 0.3664966410796458 | success |  | 95.26315789473684\n",
      "stcm | 9.0 | 20.0 |  | 0.3870056497175141 | 0.3471502590673575 | 1.0 | 0.3659961322992882 | success |  | 90.52631578947368\n",
      "stcm | 7.0 | 20.0 |  | 0.3785310734463277 | 0.354054054054054 | 1.0 | 0.3658836525835296 | success |  | 95.26315789473684\n",
      "stcm | 10.0 | 20.0 |  | 0.384180790960452 | 0.3490813648293963 | 1.0 | 0.3657910170074218 | success |  | 100.0\n",
      "stcm | 8.0 | 20.0 |  | 0.384180790960452 | 0.3490813648293963 | 1.0 | 0.3657910170074218 | success |  | 95.26315789473684\n",
      "stcm | 9.0 | 30.0 |  | 0.3785310734463277 | 0.353099730458221 | 1.0 | 0.3653734077095996 | success |  | 100.0\n",
      "stcm | 7.0 | 20.0 |  | 0.3785310734463277 | 0.353099730458221 | 1.0 | 0.3653734077095996 | success |  | 90.52631578947368\n",
      "stcm | 8.0 | 20.0 |  | 0.384180790960452 | 0.3481675392670157 | 1.0 | 0.3652886887331623 | success |  | 90.52631578947368\n",
      "stcm | 10.0 | 30.0 |  | 0.384180790960452 | 0.3473684210526316 | 1.0 | 0.3648483863100561 | success |  | 100.0\n",
      "stcm | 8.0 | 30.0 |  | 0.3728813559322034 | 0.3543956043956044 | 1.0 | 0.3634035469620335 | success |  | 100.0\n",
      "stcm | 10.0 | 20.0 |  | 0.384180790960452 | 0.3436692506459948 | 1.0 | 0.3627976011392583 | success |  | 95.26315789473684\n",
      "stcm | 10.0 | 20.0 |  | 0.384180790960452 | 0.3427835051546392 | 1.0 | 0.3623034551827742 | success |  | 90.52631578947368\n",
      "stcm | 9.0 | 30.0 |  | 0.3785310734463277 | 0.3447368421052632 | 1.0 | 0.3608444508397229 | success |  | 95.26315789473684\n",
      "stcm | 10.0 | 30.0 |  | 0.384180790960452 | 0.3393316195372751 | 1.0 | 0.3603661474225149 | success |  | 95.26315789473684\n",
      "\n"
     ]
    }
   ],
   "source": [
    "print(df.sort_values(\n",
    "    by=[\"fbeta_score\"],\n",
    "    ascending=False,\n",
    ").head(20).to_csv(index=False).replace(\",\", \" | \"))"
   ]
  },
  {
   "cell_type": "code",
   "execution_count": 5,
   "id": "f6c6aeaa",
   "metadata": {
    "code_folding": [
     0
    ]
   },
   "outputs": [],
   "source": [
    "# Reading data\n",
    "gps_records = pd.read_parquet(\"../data/02_intermediate/gps_records.parquet\")\n",
    "route_plans = pd.read_parquet(\"../data/02_intermediate/route_plan.parquet\")\n",
    "\n",
    "# Extraction dates that overlap between plan & gps records\n",
    "overlapping_dates = np.intersect1d(\n",
    "    list(pd.to_datetime(gps_records[\"datetime\"]).dt.date.astype(str).unique()),\n",
    "    list(pd.to_datetime(route_plans[\"date\"]).dt.date.astype(str).unique()),\n",
    ")\n",
    "\n",
    "def extract_overlapping_dates(\n",
    "        X: pd.DataFrame,\n",
    "        column: str,\n",
    "        overlapping_dates: list[str],\n",
    "        ) -> pd.DataFrame:\n",
    "    dates = pd.to_datetime(X[column]).dt.date.astype(str)\n",
    "    X = X[dates.isin(overlapping_dates)].reset_index(drop=True)\n",
    "    return X\n",
    "\n",
    "\n",
    "route_plans = extract_overlapping_dates(X=route_plans.copy(), column=\"date\", overlapping_dates=overlapping_dates)\n",
    "gps_records = extract_overlapping_dates(X=gps_records.copy(), column=\"datetime\", overlapping_dates=overlapping_dates)\n",
    "\n",
    "\n",
    "def extraction_overlapping_route_ids(route_plans, gps_records):\n",
    "    route_plans[\"route_id\"] = route_plans[\"date\"] + \" :: \" + route_plans[\"plate_no\"]\n",
    "    routes = np.intersect1d(\n",
    "        list(gps_records[\"route_id\"].unique()),\n",
    "        list(route_plans[\"route_id\"].unique()),\n",
    "    )\n",
    "    gps_records = pd.merge(\n",
    "        gps_records,\n",
    "        pd.DataFrame({\"route_id\": routes}),\n",
    "    )\n",
    "\n",
    "    route_plans = pd.merge(\n",
    "        route_plans,\n",
    "        pd.DataFrame({\"route_id\": routes}),\n",
    "    )\n",
    "    return gps_records, route_plans\n",
    "\n",
    "\n",
    "gps_records, route_plans = extraction_overlapping_route_ids(route_plans, gps_records)\n",
    "gps_records = [\n",
    "    gps_records[gps_records[\"plate_no\"] == plate_no].reset_index(drop=True)\n",
    "    for plate_no in gps_records[\"plate_no\"].unique()\n",
    "]"
   ]
  },
  {
   "cell_type": "markdown",
   "id": "ca2ded1a",
   "metadata": {},
   "source": [
    "# Main"
   ]
  },
  {
   "cell_type": "code",
   "execution_count": 6,
   "id": "770b8657",
   "metadata": {
    "code_folding": [
     8,
     12
    ]
   },
   "outputs": [],
   "source": [
    "# Definition of factory function\n",
    "from gps_activity import ActivityExtractionSession\n",
    "from gps_activity.extraction.factory.preprocessing import PreprocessingFactory as ActivityPreprocessingFactory\n",
    "from gps_activity.extraction.factory.fragmentation import VelocityFragmentationFactory\n",
    "from gps_activity.extraction.factory.clustering import FDBSCANFactory\n",
    "from gps_activity.extraction.factory.clustering import STCMFactory\n",
    "\n",
    "\n",
    "def factory_stcm(\n",
    "        max_velocity_hard_limit: float,\n",
    "        eps: float,\n",
    "        min_duration_sec: float,\n",
    ") -> ActivityExtractionSession:\n",
    "    preprocessing = ActivityPreprocessingFactory.factory_pipeline(\n",
    "        source_lat_column=\"lat\",\n",
    "        source_lon_column=\"lon\",\n",
    "        source_datetime=\"datetime\",\n",
    "        source_vehicle_id=\"plate_no\",\n",
    "        source_crs=\"EPSG:4326\",\n",
    "        target_crs=\"EPSG:2326\",\n",
    "    )\n",
    "    fragmentation = VelocityFragmentationFactory.factory_pipeline(\n",
    "        max_velocity_hard_limit=max_velocity_hard_limit,\n",
    "    )\n",
    "    clustering = STCMFactory.factory_pipeline(\n",
    "        source_vehicle_id_column=\"plate_no\",\n",
    "        eps=eps,\n",
    "        min_duration_sec=min_duration_sec,\n",
    "    )\n",
    "\n",
    "    stcm = ActivityExtractionSession(\n",
    "        preprocessing=preprocessing,\n",
    "        fragmentation=fragmentation,\n",
    "        clustering=clustering,\n",
    "    )\n",
    "    return stcm"
   ]
  },
  {
   "cell_type": "code",
   "execution_count": 7,
   "id": "e3b37423",
   "metadata": {
    "code_folding": [
     0
    ]
   },
   "outputs": [],
   "source": [
    "# Linker definition\n",
    "from gps_activity.linker.factory import PreprocessingFactory as LinkerPreprocessingFactory\n",
    "from gps_activity.models import DataFramePivotFields\n",
    "from gps_activity.linker.factory import ClusterAggregationFactory\n",
    "from gps_activity.linker.factory import ClusterAggregationFactory\n",
    "from gps_activity.linker.factory import JoinValidatorFactory\n",
    "from gps_activity.linker.factory import SpatialJoinerFactory\n",
    "from gps_activity.linker.factory import CoverageStatisticsFactory\n",
    "from gps_activity import ActivityLinkageSession\n",
    "\n",
    "\n",
    "def factory_linker():\n",
    "    WSG_84=\"EPSG:4326\"\n",
    "    HK_CRS=\"EPSG:2326\"\n",
    "\n",
    "\n",
    "    gps_pivot_fields = DataFramePivotFields(\n",
    "        source_lat=\"lat\",\n",
    "        source_lon=\"lon\",\n",
    "        source_datetime=\"datetime\",\n",
    "        source_vehicle_id=\"plate_no\",\n",
    "    )\n",
    "\n",
    "\n",
    "    gps_preprocess_pipeline = LinkerPreprocessingFactory.factory_pipeline(\n",
    "        source_lat_column=gps_pivot_fields.source_lat,\n",
    "        source_lon_column=gps_pivot_fields.source_lon,\n",
    "        source_datetime=gps_pivot_fields.source_datetime,\n",
    "        source_vehicle_id=gps_pivot_fields.source_vehicle_id,\n",
    "        source_crs=WSG_84,\n",
    "        target_crs=HK_CRS,\n",
    "        generate_primary_key_for=\"gps\",\n",
    "        source_composite_keys=[\n",
    "            gps_pivot_fields.source_vehicle_id,\n",
    "            gps_pivot_fields.source_datetime,\n",
    "            gps_pivot_fields.source_lat,\n",
    "            gps_pivot_fields.source_lon,\n",
    "        ],\n",
    "    )\n",
    "\n",
    "\n",
    "    plans_pivot_fields = DataFramePivotFields(\n",
    "        source_lat=\"lat\",\n",
    "        source_lon=\"lng\",\n",
    "        source_datetime=\"date\",\n",
    "        source_vehicle_id=\"plate_no\",\n",
    "        plans_pk=\"service_point_id\",\n",
    "    )\n",
    "\n",
    "\n",
    "    plans_preprocess_pipeline = LinkerPreprocessingFactory.factory_pipeline(\n",
    "        source_lat_column=plans_pivot_fields.source_lat,\n",
    "        source_lon_column=plans_pivot_fields.source_lon,\n",
    "        source_datetime=plans_pivot_fields.source_datetime,\n",
    "        source_vehicle_id=plans_pivot_fields.source_vehicle_id,\n",
    "        source_crs=WSG_84,\n",
    "        target_crs=HK_CRS,\n",
    "        generate_primary_key_for=\"plan\",\n",
    "        source_composite_keys=[plans_pivot_fields.plans_pk],\n",
    "    )\n",
    "\n",
    "    cluster_agg_pipeline = ClusterAggregationFactory.factory_pipeline(\n",
    "        source_lat_column=gps_pivot_fields.source_lat,\n",
    "        source_lon_column=gps_pivot_fields.source_lon,\n",
    "        source_datetime=gps_pivot_fields.source_datetime,\n",
    "        source_vehicle_id=gps_pivot_fields.source_vehicle_id,\n",
    "        source_crs=WSG_84,\n",
    "        target_crs=HK_CRS,\n",
    "    )\n",
    "\n",
    "\n",
    "    spatial_joiner = SpatialJoinerFactory.factory_pipeline(how=\"inner\", max_distance=80)\n",
    "    spatial_validator = JoinValidatorFactory.factory_pipeline(\n",
    "        max_days_distance=1,\n",
    "        ensure_vehicle_overlap=False,\n",
    "    )\n",
    "\n",
    "    coverage_stats_extractor = CoverageStatisticsFactory.factory_pipeline()\n",
    "\n",
    "    linkage_session = ActivityLinkageSession(\n",
    "        gps_preprocessor=gps_preprocess_pipeline,\n",
    "        plan_preprocessor=plans_preprocess_pipeline,\n",
    "        cluster_aggregator=cluster_agg_pipeline,\n",
    "        spatial_joiner=spatial_joiner,\n",
    "        spatial_validator=spatial_validator,\n",
    "        coverage_stats_extractor=coverage_stats_extractor\n",
    "    )\n",
    "    return linkage_session"
   ]
  },
  {
   "cell_type": "code",
   "execution_count": 8,
   "id": "6701bda6",
   "metadata": {
    "code_folding": [
     0
    ]
   },
   "outputs": [],
   "source": [
    "# Metrics\n",
    "from gps_activity import ActivityMetricsSession\n",
    "\n",
    "def factory_metrics():\n",
    "    return ActivityMetricsSession()"
   ]
  },
  {
   "cell_type": "code",
   "execution_count": 9,
   "id": "498a50e9",
   "metadata": {},
   "outputs": [],
   "source": [
    "from multiprocess import Pool\n",
    "\n",
    "\n",
    "def process_and_estimate(clustering_specs: dict, gps: pd.DataFrame, plan: pd.DataFrame):\n",
    "\n",
    "    # 1. Factory clustering instance\n",
    "    instance_id = clustering_specs[\"id\"]\n",
    "    factory_func = clustering_specs[\"factory_function\"]\n",
    "    kwargs = clustering_specs[\"kwargs\"]\n",
    "    clustering_instance = factory_func(**kwargs)\n",
    "\n",
    "    # 2. Definition of dependencies\n",
    "    linker = factory_linker()\n",
    "    metrics = factory_metrics()\n",
    "\n",
    "    # 3. Clustering\n",
    "    clustered_gps = [\n",
    "        clustering_instance.predict(gps_part.copy())\n",
    "        for gps_part in gps\n",
    "    ]\n",
    "    clustered_gps = pd.concat(clustered_gps).reset_index(drop=True)\n",
    "    clustered_gps[\"cluster_id\"] = clustered_gps[\"cluster_id\"].astype(int)\n",
    "\n",
    "    # 4. Linkage\n",
    "    linkage_data_container = linker.transform(\n",
    "        gps=clustered_gps,\n",
    "        plan=plan,\n",
    "    )\n",
    "\n",
    "    # 5. Performance estimate\n",
    "    return linkage_data_container\n"
   ]
  },
  {
   "cell_type": "code",
   "execution_count": 10,
   "id": "68af880f",
   "metadata": {},
   "outputs": [],
   "source": [
    "linked_data = process_and_estimate(\n",
    "    clustering_specs={\n",
    "        \"id\": 1,\n",
    "        \"factory_function\": factory_stcm,\n",
    "        \"kwargs\": {\n",
    "            \"max_velocity_hard_limit\": 6,\n",
    "            \"eps\": 20,\n",
    "            \"min_duration_sec\": 100,\n",
    "        }\n",
    "    },\n",
    "    gps=gps_records,\n",
    "    plan=route_plans,\n",
    ")\n"
   ]
  },
  {
   "cell_type": "code",
   "execution_count": 11,
   "id": "40ee91d5",
   "metadata": {},
   "outputs": [],
   "source": [
    "gps_plan = linked_data.full_gps_plan_join"
   ]
  },
  {
   "cell_type": "code",
   "execution_count": 12,
   "id": "7c05fdb8",
   "metadata": {},
   "outputs": [],
   "source": [
    "from keplergl import KeplerGl"
   ]
  },
  {
   "cell_type": "code",
   "execution_count": 13,
   "id": "ef3046e8",
   "metadata": {},
   "outputs": [],
   "source": [
    "from gps_activity.models import DataFramePivotFields"
   ]
  },
  {
   "cell_type": "code",
   "execution_count": 14,
   "id": "d0ac6b22",
   "metadata": {},
   "outputs": [],
   "source": [
    "fields = DataFramePivotFields()"
   ]
  },
  {
   "cell_type": "code",
   "execution_count": 15,
   "id": "5307d00d",
   "metadata": {},
   "outputs": [],
   "source": [
    "columns = [\n",
    "    'datetime',\n",
    "    'lat_gps',\n",
    "    'lon_gps',\n",
    "    'plate_no',\n",
    "    'route_id',\n",
    "    'x',\n",
    "    'y',\n",
    "    'unixtime',\n",
    "    'computed_velocity',\n",
    "    'is_clustering_candidate',\n",
    "    'cluster_id',\n",
    "    'gps_primary_key',\n",
    "    'date',\n",
    "    'lon_cluster',\n",
    "    'lat_cluster',\n",
    "    'cluster_primary_key',\n",
    "    'plans_primary_key',\n",
    "    'sjoin_temporal_dist',\n",
    "    'sjoin_spatial_dist',\n",
    "    'sjoin_overall_dist',\n",
    "    'plate_no_plan',\n",
    "    'date_plan',\n",
    "    'lon_plan',\n",
    "    'lat_plan',\n",
    "]\n",
    "gps_plan = gps_plan[columns]"
   ]
  },
  {
   "cell_type": "code",
   "execution_count": 16,
   "id": "3a4979d8",
   "metadata": {
    "code_folding": []
   },
   "outputs": [],
   "source": [
    "import pandas as pd\n",
    "import pandera as pa\n",
    "\n",
    "\n",
    "# define schema\n",
    "schema = pa.DataFrameSchema({\n",
    "    \"datetime\": pa.Column(str, coerce=True),\n",
    "    \"lat_gps\": pa.Column(float, coerce=True),\n",
    "    \"lon_gps\": pa.Column(float, coerce=True),\n",
    "    \"plate_no\": pa.Column(str, coerce=True),\n",
    "    \"computed_velocity\": pa.Column(float),\n",
    "    \"is_clustering_candidate\": pa.Column(bool),\n",
    "    \"cluster_id\": pa.Column(int),\n",
    "    \"gps_primary_key\": pa.Column(str),\n",
    "    \"date\": pa.Column(str),\n",
    "    \"lon_cluster\": pa.Column(float, nullable=True),\n",
    "    \"lat_cluster\": pa.Column(float, nullable=True),\n",
    "    \"cluster_primary_key\": pa.Column(str, nullable=True),\n",
    "    \"plans_primary_key\": pa.Column(str, nullable=True),\n",
    "    \"sjoin_temporal_dist\": pa.Column(float, nullable=True),\n",
    "    \"sjoin_spatial_dist\": pa.Column(float, nullable=True),\n",
    "    \"sjoin_overall_dist\": pa.Column(float, nullable=True),\n",
    "    \"lon_plan\": pa.Column(float, nullable=True),\n",
    "    \"lat_plan\": pa.Column(float, nullable=True),\n",
    "}, coerce=True)"
   ]
  },
  {
   "cell_type": "code",
   "execution_count": 17,
   "id": "09c78cbd",
   "metadata": {},
   "outputs": [],
   "source": [
    "gps_plan = schema.validate(gps_plan[list(schema.columns.keys())])"
   ]
  },
  {
   "cell_type": "code",
   "execution_count": 18,
   "id": "42e3c793",
   "metadata": {},
   "outputs": [],
   "source": [
    "gps_plan = gps_plan[(\n",
    "    (gps_plan[\"plate_no\"] == \"Vehicle #1\") &\n",
    "    (gps_plan[\"date\"] == \"2022-05-10\")\n",
    ")]"
   ]
  },
  {
   "cell_type": "code",
   "execution_count": null,
   "id": "444e62f5",
   "metadata": {},
   "outputs": [],
   "source": [
    "import json\n",
    "from keplergl import KeplerGl\n",
    "\n",
    "\n",
    "\n",
    "with open('map_configuration.json', 'r') as f:\n",
    "    config = json.load(f)\n",
    "\n",
    "\n",
    "kepler = KeplerGl(data={\"gps_plan\": gps_plan}, height=900, config=config)\n",
    "kepler"
   ]
  },
  {
   "cell_type": "code",
   "execution_count": null,
   "id": "17031d60",
   "metadata": {},
   "outputs": [],
   "source": [
    "# import json\n",
    "\n",
    "\n",
    "# with open('map_configuration.json', 'w', encoding='utf-8') as f:\n",
    "#     json.dump(kepler.config, f, ensure_ascii=False, indent=4)"
   ]
  }
 ],
 "metadata": {
  "kernelspec": {
   "display_name": "Python 3 (ipykernel)",
   "language": "python",
   "name": "python3"
  },
  "language_info": {
   "codemirror_mode": {
    "name": "ipython",
    "version": 3
   },
   "file_extension": ".py",
   "mimetype": "text/x-python",
   "name": "python",
   "nbconvert_exporter": "python",
   "pygments_lexer": "ipython3",
   "version": "3.11.2"
  },
  "varInspector": {
   "cols": {
    "lenName": 16,
    "lenType": 16,
    "lenVar": 40
   },
   "kernels_config": {
    "python": {
     "delete_cmd_postfix": "",
     "delete_cmd_prefix": "del ",
     "library": "var_list.py",
     "varRefreshCmd": "print(var_dic_list())"
    },
    "r": {
     "delete_cmd_postfix": ") ",
     "delete_cmd_prefix": "rm(",
     "library": "var_list.r",
     "varRefreshCmd": "cat(var_dic_list()) "
    }
   },
   "types_to_exclude": [
    "module",
    "function",
    "builtin_function_or_method",
    "instance",
    "_Feature"
   ],
   "window_display": false
  }
 },
 "nbformat": 4,
 "nbformat_minor": 5
}
