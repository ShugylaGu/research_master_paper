{
 "cells": [
  {
   "cell_type": "markdown",
   "id": "7727da0e",
   "metadata": {},
   "source": [
    "# About\n",
    "* **Author**: Adil Rashitov (adil.rashitov.98@gmail.com)\n",
    "* **Created at**: 08.12.2022\n"
   ]
  },
  {
   "cell_type": "code",
   "execution_count": null,
   "id": "0d4c7bdb",
   "metadata": {
    "code_folding": [
     0
    ]
   },
   "outputs": [],
   "source": [
    "# Imports / Configs / Global vars\n",
    "\n",
    "# Import of native python tools\n",
    "import os\n",
    "import json\n",
    "from functools import reduce\n",
    "\n",
    "# Import of base ML stack libs\n",
    "import numpy as np\n",
    "import sklearn as sc\n",
    "\n",
    "# Visualization libraries\n",
    "# import plotly.express as px\n",
    "\n",
    "# Logging configuraiton\n",
    "import logging\n",
    "logging.basicConfig(format='[ %(asctime)s ][ %(levelname)s ]: %(message)s', datefmt='%m/%d/%Y %I:%M:%S %p')\n",
    "logger = logging.getLogger()\n",
    "logger.setLevel(logging.INFO)\n",
    "\n",
    "\n",
    "# Ipython configs\n",
    "from IPython.core.display import display, HTML\n",
    "from IPython.core.interactiveshell import InteractiveShell\n",
    "display(HTML(\"<style>.container { width:100% !important; }</style>\"))\n",
    "InteractiveShell.ast_node_interactivity = 'all'\n",
    "\n",
    "# Pandas configs\n",
    "import pandas as pd\n",
    "import geopandas as gpd\n",
    "pd.options.display.max_rows = 350\n",
    "pd.options.display.max_columns = 250\n",
    "\n",
    "# Jupyter configs\n",
    "%load_ext autoreload\n",
    "%autoreload 2\n",
    "%config Completer.use_jedi = False\n",
    "\n",
    "# Configure project PATH\n",
    "from pathlib import Path\n",
    "import sys\n",
    "PROJECT_PATH = os.getcwd().rsplit('/', 1)[0]\n",
    "\n",
    "\n",
    "if PROJECT_PATH not in sys.path:\n",
    "    sys.path.append(PROJECT_PATH)"
   ]
  },
  {
   "cell_type": "markdown",
   "id": "b102604f",
   "metadata": {
    "code_folding": []
   },
   "source": [
    "# Data"
   ]
  },
  {
   "cell_type": "code",
   "execution_count": null,
   "id": "fb21fef0",
   "metadata": {
    "code_folding": [
     0
    ]
   },
   "outputs": [],
   "source": [
    "# Reaiding gps\n",
    "from src import path\n",
    "from src.gps_formatting_pipeline import factory_raw_gps_formatter_pipeline\n",
    "\n",
    "\n",
    "gps_formatting_pipeline = factory_raw_gps_formatter_pipeline()\n",
    "gps_records = pd.read_parquet(path.FILE_01_RAW_GPS)\n",
    "gps_records = gps_formatting_pipeline.fit_transform(gps_records)\n",
    "\n",
    "\n",
    "logging.info(f\"Amt records before drop duplicates: {gps_records.shape[0]}\")\n",
    "gps_records = gps_records.drop_duplicates().reset_index(drop=True)\n",
    "logging.info(f\"Amt records after drop duplicates: {gps_records.shape[0]}\")"
   ]
  },
  {
   "cell_type": "code",
   "execution_count": null,
   "id": "c5dc72f2",
   "metadata": {},
   "outputs": [],
   "source": [
    "gps_records.head()"
   ]
  },
  {
   "cell_type": "code",
   "execution_count": null,
   "id": "c2c9f46c",
   "metadata": {},
   "outputs": [],
   "source": []
  },
  {
   "cell_type": "code",
   "execution_count": null,
   "id": "cf76a5a9",
   "metadata": {
    "code_folding": []
   },
   "outputs": [],
   "source": [
    "# Route plan\n",
    "route_plans = pd.read_parquet(path.FILE_01_RAW_PLANS)\n",
    "route_plans[\"date\"] = pd.to_datetime(route_plans[\"date\"], format='%Y%m%d').astype(str)\n",
    "logging.info(f\"Amt route plans: {route_plans.shape[0]}\")\n",
    "route_plans = route_plans.drop_duplicates().reset_index(drop=True)\n",
    "logging.info(f\"Amt route plans: {route_plans.shape[0]}\")"
   ]
  },
  {
   "cell_type": "code",
   "execution_count": null,
   "id": "b986ae37",
   "metadata": {},
   "outputs": [],
   "source": [
    "route_plans.head()"
   ]
  },
  {
   "cell_type": "code",
   "execution_count": null,
   "id": "36cbbf93",
   "metadata": {},
   "outputs": [],
   "source": [
    "# Geocodes\n",
    "geocodes = pd.read_csv(path.FILE_01_RAW_GEOCODES)\n",
    "geocodes = geocodes.drop_duplicates([\"address\"])"
   ]
  },
  {
   "cell_type": "markdown",
   "id": "ef932022",
   "metadata": {},
   "source": [
    "# Main"
   ]
  },
  {
   "cell_type": "code",
   "execution_count": null,
   "id": "56064a12",
   "metadata": {},
   "outputs": [],
   "source": [
    "# Join geocodes & route plan\n",
    "route_plans = route_plans.merge(geocodes, how=\"left\")\n",
    "route_plans = route_plans.drop_duplicates([\"service_point_id\"])"
   ]
  },
  {
   "cell_type": "code",
   "execution_count": null,
   "id": "036cd377",
   "metadata": {},
   "outputs": [],
   "source": [
    "route_plans.head()"
   ]
  },
  {
   "cell_type": "code",
   "execution_count": null,
   "id": "2f603f64",
   "metadata": {},
   "outputs": [],
   "source": [
    "route_plans.to_parquet(\"../data/02_intermediate/route_plan.parquet\", index=False)\n",
    "gps_records.to_parquet(\"../data/02_intermediate/gps_records.parquet\", index=False)"
   ]
  },
  {
   "cell_type": "code",
   "execution_count": null,
   "id": "a296c2fe",
   "metadata": {},
   "outputs": [],
   "source": [
    "gps = gps_records[gps_records[\"route_id\"] == \"2022-06-06 :: Vehicle #1\"]"
   ]
  },
  {
   "cell_type": "code",
   "execution_count": null,
   "id": "c3e24714",
   "metadata": {},
   "outputs": [],
   "source": [
    "from keplergl import KeplerGl\n",
    "\n",
    "kepler = KeplerGl(data={\"gps\": gps}, height=800)"
   ]
  },
  {
   "cell_type": "code",
   "execution_count": null,
   "id": "bfd3e0d1",
   "metadata": {},
   "outputs": [],
   "source": [
    "kepler"
   ]
  },
  {
   "cell_type": "code",
   "execution_count": null,
   "id": "0cd7b19e",
   "metadata": {},
   "outputs": [],
   "source": []
  }
 ],
 "metadata": {
  "kernelspec": {
   "display_name": "Python 3 (ipykernel)",
   "language": "python",
   "name": "python3"
  },
  "language_info": {
   "codemirror_mode": {
    "name": "ipython",
    "version": 3
   },
   "file_extension": ".py",
   "mimetype": "text/x-python",
   "name": "python",
   "nbconvert_exporter": "python",
   "pygments_lexer": "ipython3",
   "version": "3.10.9"
  },
  "varInspector": {
   "cols": {
    "lenName": 16,
    "lenType": 16,
    "lenVar": 40
   },
   "kernels_config": {
    "python": {
     "delete_cmd_postfix": "",
     "delete_cmd_prefix": "del ",
     "library": "var_list.py",
     "varRefreshCmd": "print(var_dic_list())"
    },
    "r": {
     "delete_cmd_postfix": ") ",
     "delete_cmd_prefix": "rm(",
     "library": "var_list.r",
     "varRefreshCmd": "cat(var_dic_list()) "
    }
   },
   "types_to_exclude": [
    "module",
    "function",
    "builtin_function_or_method",
    "instance",
    "_Feature"
   ],
   "window_display": false
  }
 },
 "nbformat": 4,
 "nbformat_minor": 5
}
